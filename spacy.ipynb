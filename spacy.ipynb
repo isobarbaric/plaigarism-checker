{
 "cells": [
  {
   "cell_type": "code",
   "execution_count": 4,
   "metadata": {},
   "outputs": [],
   "source": [
    "import spacy"
   ]
  },
  {
   "cell_type": "code",
   "execution_count": 6,
   "metadata": {},
   "outputs": [],
   "source": [
    "nlp = spacy.load('en_core_web_sm')"
   ]
  },
  {
   "cell_type": "code",
   "execution_count": 7,
   "metadata": {},
   "outputs": [],
   "source": [
    "doc = nlp(\"Dogs are one of the most popular domestic pets and have been bred for thousands of years for various purposes, such as hunting, herding, and guarding. They belong to the Canidae family and are descendants of wolves. Today, dogs come in a wide range of breeds, each with its own unique physical appearance and personality traits. They are known for their loyalty, affection, and obedience to their owners. Dogs are also highly trainable and can be taught various commands and tricks, which makes them useful for various tasks, such as assistance for people with disabilities and law enforcement. They also make great companions for children and adults alike, providing comfort and emotional support.\")"
   ]
  },
  {
   "cell_type": "code",
   "execution_count": 10,
   "metadata": {},
   "outputs": [
    {
     "data": {
      "text/plain": [
       "spacy.tokens.doc.Doc"
      ]
     },
     "execution_count": 10,
     "metadata": {},
     "output_type": "execute_result"
    }
   ],
   "source": [
    "type(doc)"
   ]
  },
  {
   "cell_type": "code",
   "execution_count": 13,
   "metadata": {},
   "outputs": [
    {
     "name": "stdout",
     "output_type": "stream",
     "text": [
      "Dogs NOUN dog 7562983679033046312\n",
      "are AUX be 10382539506755952630\n",
      "one NUM one 17454115351911680600\n",
      "of ADP of 886050111519832510\n",
      "the DET the 7425985699627899538\n",
      "most ADV most 11104729984170784471\n",
      "popular ADJ popular 14688941347363729346\n",
      "domestic ADJ domestic 13434373489721667270\n",
      "pets NOUN pet 8199115189604440881\n",
      "and CCONJ and 2283656566040971221\n",
      "have AUX have 14692702688101715474\n",
      "been AUX be 10382539506755952630\n",
      "bred VERB breed 8902172685751194066\n",
      "for ADP for 16037325823156266367\n",
      "thousands NOUN thousand 2848708369715101064\n",
      "of ADP of 886050111519832510\n",
      "years NOUN year 14889849580704678361\n",
      "for ADP for 16037325823156266367\n",
      "various ADJ various 15505458595570984623\n",
      "purposes NOUN purpose 12663030773202738230\n",
      ", PUNCT , 2593208677638477497\n",
      "such ADJ such 13040105543478938413\n",
      "as ADP as 7437575085468336610\n",
      "hunting NOUN hunting 685367552965570869\n",
      ", PUNCT , 2593208677638477497\n",
      "herding NOUN herding 14065515966306195064\n",
      ", PUNCT , 2593208677638477497\n",
      "and CCONJ and 2283656566040971221\n",
      "guarding VERB guard 883579939553832862\n",
      ". PUNCT . 12646065887601541794\n",
      "They PRON they 16875582379069451158\n",
      "belong VERB belong 6990553197579085743\n",
      "to ADP to 3791531372978436496\n",
      "the DET the 7425985699627899538\n",
      "Canidae PROPN Canidae 12832664815636080917\n",
      "family NOUN family 18292453351080475948\n",
      "and CCONJ and 2283656566040971221\n",
      "are AUX be 10382539506755952630\n",
      "descendants NOUN descendant 18176733167330962457\n",
      "of ADP of 886050111519832510\n",
      "wolves NOUN wolf 3947241998546424405\n",
      ". PUNCT . 12646065887601541794\n",
      "Today NOUN today 11042482332948150395\n",
      ", PUNCT , 2593208677638477497\n",
      "dogs NOUN dog 7562983679033046312\n",
      "come VERB come 5307304325359566725\n",
      "in ADP in 3002984154512732771\n",
      "a DET a 11901859001352538922\n",
      "wide ADJ wide 1472532298972223094\n",
      "range NOUN range 9780120844974374175\n",
      "of ADP of 886050111519832510\n",
      "breeds NOUN breed 8902172685751194066\n",
      ", PUNCT , 2593208677638477497\n",
      "each PRON each 5379624210385286023\n",
      "with ADP with 12510949447758279278\n",
      "its PRON its 12513610393978129441\n",
      "own ADJ own 2646123857127441627\n",
      "unique ADJ unique 5983206397430101660\n",
      "physical ADJ physical 3449592307697518307\n",
      "appearance NOUN appearance 13538774279161928784\n",
      "and CCONJ and 2283656566040971221\n",
      "personality NOUN personality 18229422903966394062\n",
      "traits NOUN trait 17697812628803695665\n",
      ". PUNCT . 12646065887601541794\n",
      "They PRON they 16875582379069451158\n",
      "are AUX be 10382539506755952630\n",
      "known VERB know 7743033266031195906\n",
      "for ADP for 16037325823156266367\n",
      "their PRON their 4244585616942201722\n",
      "loyalty NOUN loyalty 1103586946495759615\n",
      ", PUNCT , 2593208677638477497\n",
      "affection NOUN affection 12691308753563351538\n",
      ", PUNCT , 2593208677638477497\n",
      "and CCONJ and 2283656566040971221\n",
      "obedience NOUN obedience 18185290572285122865\n",
      "to ADP to 3791531372978436496\n",
      "their PRON their 4244585616942201722\n",
      "owners NOUN owner 15692510789703125315\n",
      ". PUNCT . 12646065887601541794\n",
      "Dogs NOUN dog 7562983679033046312\n",
      "are AUX be 10382539506755952630\n",
      "also ADV also 12084876542534825196\n",
      "highly ADV highly 11694386822286564188\n",
      "trainable ADJ trainable 17481917612412481649\n",
      "and CCONJ and 2283656566040971221\n",
      "can AUX can 6635067063807956629\n",
      "be AUX be 10382539506755952630\n",
      "taught VERB teach 9298866405196777311\n",
      "various ADJ various 15505458595570984623\n",
      "commands NOUN command 166278642380228377\n",
      "and CCONJ and 2283656566040971221\n",
      "tricks NOUN trick 15679638263719342711\n",
      ", PUNCT , 2593208677638477497\n",
      "which PRON which 7063653163634019529\n",
      "makes VERB make 9614445426764226664\n",
      "them PRON they 16875582379069451158\n",
      "useful ADJ useful 10974085886875223464\n",
      "for ADP for 16037325823156266367\n",
      "various ADJ various 15505458595570984623\n",
      "tasks NOUN task 1048061966900118739\n",
      ", PUNCT , 2593208677638477497\n",
      "such ADJ such 13040105543478938413\n",
      "as ADP as 7437575085468336610\n",
      "assistance NOUN assistance 13758060267895693543\n",
      "for ADP for 16037325823156266367\n",
      "people NOUN people 7593739049417968140\n",
      "with ADP with 12510949447758279278\n",
      "disabilities NOUN disability 4182148502340832955\n",
      "and CCONJ and 2283656566040971221\n",
      "law NOUN law 12630948021571808299\n",
      "enforcement NOUN enforcement 2404133219623405632\n",
      ". PUNCT . 12646065887601541794\n",
      "They PRON they 16875582379069451158\n",
      "also ADV also 12084876542534825196\n",
      "make VERB make 9614445426764226664\n",
      "great ADJ great 8881679497796027013\n",
      "companions NOUN companion 18159007294764842727\n",
      "for ADP for 16037325823156266367\n",
      "children NOUN child 737253710922290542\n",
      "and CCONJ and 2283656566040971221\n",
      "adults NOUN adult 1465449911305438562\n",
      "alike ADV alike 3381811748406981458\n",
      ", PUNCT , 2593208677638477497\n",
      "providing VERB provide 3805418597433244348\n",
      "comfort NOUN comfort 3214351218142306951\n",
      "and CCONJ and 2283656566040971221\n",
      "emotional ADJ emotional 4955580022863761283\n",
      "support NOUN support 5147005412574305164\n",
      ". PUNCT . 12646065887601541794\n"
     ]
    }
   ],
   "source": [
    "for token in doc:\n",
    "    print(token.text, token.pos_, token.lemma_)"
   ]
  },
  {
   "cell_type": "code",
   "execution_count": null,
   "metadata": {},
   "outputs": [],
   "source": []
  }
 ],
 "metadata": {
  "kernelspec": {
   "display_name": "base",
   "language": "python",
   "name": "python3"
  },
  "language_info": {
   "codemirror_mode": {
    "name": "ipython",
    "version": 3
   },
   "file_extension": ".py",
   "mimetype": "text/x-python",
   "name": "python",
   "nbconvert_exporter": "python",
   "pygments_lexer": "ipython3",
   "version": "3.9.13"
  },
  "orig_nbformat": 4,
  "vscode": {
   "interpreter": {
    "hash": "aa11b94746fc3e31dd444f69cbc07362dc8f0f9fc8892b4755141b10c2d19365"
   }
  }
 },
 "nbformat": 4,
 "nbformat_minor": 2
}
